{
  "nbformat": 4,
  "nbformat_minor": 0,
  "metadata": {
    "colab": {
      "name": "ML.ipynb",
      "provenance": [],
      "collapsed_sections": [
        "697UvFrzS1Ez",
        "VbxdScdwY13i"
      ],
      "authorship_tag": "ABX9TyMxyynl/IOFqLtvhVwWja3r",
      "include_colab_link": true
    },
    "kernelspec": {
      "name": "python3",
      "display_name": "Python 3"
    }
  },
  "cells": [
    {
      "cell_type": "markdown",
      "metadata": {
        "id": "view-in-github",
        "colab_type": "text"
      },
      "source": [
        "<a href=\"https://colab.research.google.com/github/buthaina279/DS_EDA_example/blob/main/ML.ipynb\" target=\"_parent\"><img src=\"https://colab.research.google.com/assets/colab-badge.svg\" alt=\"Open In Colab\"/></a>"
      ]
    },
    {
      "cell_type": "code",
      "metadata": {
        "id": "4hBLp2YgDuOE"
      },
      "source": [
        "# Import Libraries\n",
        "\n",
        "from textblob import TextBlob\n",
        "import matplotlib.pyplot as plt\n",
        "import pandas as pd\n",
        "import numpy as np\n",
        "import os\n",
        "import nltk\n",
        "from google.colab import drive  \n",
        "#import pycountry\n",
        "import re\n",
        "import string\n",
        "\n",
        "from wordcloud import WordCloud, STOPWORDS\n",
        "from PIL import Image\n",
        "from nltk.sentiment.vader import SentimentIntensityAnalyzer\n",
        "#from langdetect import detect\n",
        "from nltk.stem import SnowballStemmer\n",
        "from nltk.sentiment.vader import SentimentIntensityAnalyzer\n",
        "from sklearn.feature_extraction.text import CountVectorizer\n",
        "\n",
        "from sklearn.preprocessing import OneHotEncoder\n",
        "from sklearn.compose import ColumnTransformer\n",
        "import itertools"
      ],
      "execution_count": 14,
      "outputs": []
    },
    {
      "cell_type": "code",
      "metadata": {
        "colab": {
          "base_uri": "https://localhost:8080/"
        },
        "id": "siq9Tf95D-US",
        "outputId": "48bf6159-a456-45f6-adb6-dde0fd56fc6c"
      },
      "source": [
        "# Connect Google Drive to Colab\n",
        "drive.mount('/content/gdrive')\n",
        "# Create a variable to store the data path on your drive\n",
        "path = './gdrive/My Drive/datasets/twitter_analysis'"
      ],
      "execution_count": 15,
      "outputs": [
        {
          "output_type": "stream",
          "text": [
            "Drive already mounted at /content/gdrive; to attempt to forcibly remount, call drive.mount(\"/content/gdrive\", force_remount=True).\n"
          ],
          "name": "stdout"
        }
      ]
    },
    {
      "cell_type": "code",
      "metadata": {
        "id": "C96D4jgjED77"
      },
      "source": [
        "saudia_airlines = pd.read_csv(\"./gdrive/My Drive/datasets/twitter_analysis/saudia_airlines_classified.csv\")"
      ],
      "execution_count": 20,
      "outputs": []
    },
    {
      "cell_type": "code",
      "metadata": {
        "colab": {
          "base_uri": "https://localhost:8080/",
          "height": 940
        },
        "id": "xFgcHpvLEkY-",
        "outputId": "ad62c954-bcb5-448f-c963-5da725c4619f"
      },
      "source": [
        "saudia_airlines.head(10)"
      ],
      "execution_count": 17,
      "outputs": [
        {
          "output_type": "execute_result",
          "data": {
            "text/html": [
              "<div>\n",
              "<style scoped>\n",
              "    .dataframe tbody tr th:only-of-type {\n",
              "        vertical-align: middle;\n",
              "    }\n",
              "\n",
              "    .dataframe tbody tr th {\n",
              "        vertical-align: top;\n",
              "    }\n",
              "\n",
              "    .dataframe thead th {\n",
              "        text-align: right;\n",
              "    }\n",
              "</style>\n",
              "<table border=\"1\" class=\"dataframe\">\n",
              "  <thead>\n",
              "    <tr style=\"text-align: right;\">\n",
              "      <th></th>\n",
              "      <th>Unnamed: 0</th>\n",
              "      <th>Unnamed: 0.1</th>\n",
              "      <th>tweet_id</th>\n",
              "      <th>created_at</th>\n",
              "      <th>text</th>\n",
              "      <th>likes</th>\n",
              "      <th>retweeted</th>\n",
              "      <th>location</th>\n",
              "      <th>language</th>\n",
              "      <th>airline</th>\n",
              "      <th>nonstop_documents</th>\n",
              "      <th>sentiment_confidence</th>\n",
              "      <th>polarity</th>\n",
              "      <th>sentiment</th>\n",
              "    </tr>\n",
              "  </thead>\n",
              "  <tbody>\n",
              "    <tr>\n",
              "      <th>0</th>\n",
              "      <td>0</td>\n",
              "      <td>14</td>\n",
              "      <td>1335393841810202624</td>\n",
              "      <td>2020-12-06 01:21:16</td>\n",
              "      <td>dear guest there is no flight from india to s...</td>\n",
              "      <td>1</td>\n",
              "      <td>False</td>\n",
              "      <td>Saudi Arabia</td>\n",
              "      <td>en</td>\n",
              "      <td>Saudi_airlines</td>\n",
              "      <td>dear guest flight india saudi arabia time kin...</td>\n",
              "      <td>0.900</td>\n",
              "      <td>0.600</td>\n",
              "      <td>Positive</td>\n",
              "    </tr>\n",
              "    <tr>\n",
              "      <th>1</th>\n",
              "      <td>1</td>\n",
              "      <td>23</td>\n",
              "      <td>1335337522738720770</td>\n",
              "      <td>2020-12-05 21:37:29</td>\n",
              "      <td>hello dear guest we hope you check and be inf...</td>\n",
              "      <td>1</td>\n",
              "      <td>False</td>\n",
              "      <td>Saudi Arabia</td>\n",
              "      <td>en</td>\n",
              "      <td>Saudi_airlines</td>\n",
              "      <td>hello dear guest hope check informed travel u...</td>\n",
              "      <td>0.375</td>\n",
              "      <td>-0.125</td>\n",
              "      <td>Negative</td>\n",
              "    </tr>\n",
              "    <tr>\n",
              "      <th>2</th>\n",
              "      <td>2</td>\n",
              "      <td>29</td>\n",
              "      <td>1335334320014315521</td>\n",
              "      <td>2020-12-05 21:24:45</td>\n",
              "      <td>hello dear guest please provide us with the b...</td>\n",
              "      <td>0</td>\n",
              "      <td>False</td>\n",
              "      <td>Saudi Arabia</td>\n",
              "      <td>en</td>\n",
              "      <td>Saudi_airlines</td>\n",
              "      <td>hello dear guest please provide u booking num...</td>\n",
              "      <td>0.400</td>\n",
              "      <td>0.100</td>\n",
              "      <td>Positive</td>\n",
              "    </tr>\n",
              "    <tr>\n",
              "      <th>3</th>\n",
              "      <td>3</td>\n",
              "      <td>38</td>\n",
              "      <td>1335322063851167748</td>\n",
              "      <td>2020-12-05 20:36:03</td>\n",
              "      <td>dear guest there is no flight from india to s...</td>\n",
              "      <td>1</td>\n",
              "      <td>False</td>\n",
              "      <td>Saudi Arabia</td>\n",
              "      <td>en</td>\n",
              "      <td>Saudi_airlines</td>\n",
              "      <td>dear guest flight india saudi arabia time fli...</td>\n",
              "      <td>0.000</td>\n",
              "      <td>0.000</td>\n",
              "      <td>Neutral</td>\n",
              "    </tr>\n",
              "    <tr>\n",
              "      <th>4</th>\n",
              "      <td>4</td>\n",
              "      <td>43</td>\n",
              "      <td>1335314759588122626</td>\n",
              "      <td>2020-12-05 20:07:02</td>\n",
              "      <td>hello dear guest you can follow up the flight...</td>\n",
              "      <td>1</td>\n",
              "      <td>False</td>\n",
              "      <td>Saudi Arabia</td>\n",
              "      <td>en</td>\n",
              "      <td>Saudi_airlines</td>\n",
              "      <td>hello dear guest follow flight schedule website</td>\n",
              "      <td>0.000</td>\n",
              "      <td>0.000</td>\n",
              "      <td>Neutral</td>\n",
              "    </tr>\n",
              "    <tr>\n",
              "      <th>5</th>\n",
              "      <td>5</td>\n",
              "      <td>50</td>\n",
              "      <td>1335306576312356865</td>\n",
              "      <td>2020-12-05 19:34:31</td>\n",
              "      <td>dear guest there is no flight from india to s...</td>\n",
              "      <td>0</td>\n",
              "      <td>False</td>\n",
              "      <td>Saudi Arabia</td>\n",
              "      <td>en</td>\n",
              "      <td>Saudi_airlines</td>\n",
              "      <td>dear guest flight india saudi arabia time fli...</td>\n",
              "      <td>0.000</td>\n",
              "      <td>0.000</td>\n",
              "      <td>Neutral</td>\n",
              "    </tr>\n",
              "    <tr>\n",
              "      <th>6</th>\n",
              "      <td>6</td>\n",
              "      <td>51</td>\n",
              "      <td>1335304974679613443</td>\n",
              "      <td>2020-12-05 19:28:09</td>\n",
              "      <td>hello dear valued guest once the confirmation...</td>\n",
              "      <td>1</td>\n",
              "      <td>False</td>\n",
              "      <td>Saudi Arabia</td>\n",
              "      <td>en</td>\n",
              "      <td>Saudi_airlines</td>\n",
              "      <td>hello dear valued guest confirmation date lif...</td>\n",
              "      <td>0.000</td>\n",
              "      <td>0.000</td>\n",
              "      <td>Neutral</td>\n",
              "    </tr>\n",
              "    <tr>\n",
              "      <th>7</th>\n",
              "      <td>7</td>\n",
              "      <td>53</td>\n",
              "      <td>1335276146653589507</td>\n",
              "      <td>2020-12-05 17:33:36</td>\n",
              "      <td>dear guest there is no flight from india to s...</td>\n",
              "      <td>0</td>\n",
              "      <td>False</td>\n",
              "      <td>Saudi Arabia</td>\n",
              "      <td>en</td>\n",
              "      <td>Saudi_airlines</td>\n",
              "      <td>dear guest flight india saudi arabia time fli...</td>\n",
              "      <td>0.000</td>\n",
              "      <td>0.000</td>\n",
              "      <td>Neutral</td>\n",
              "    </tr>\n",
              "    <tr>\n",
              "      <th>8</th>\n",
              "      <td>8</td>\n",
              "      <td>55</td>\n",
              "      <td>1335275872295804928</td>\n",
              "      <td>2020-12-05 17:32:30</td>\n",
              "      <td>dear guest there is no flight from india to s...</td>\n",
              "      <td>0</td>\n",
              "      <td>False</td>\n",
              "      <td>Saudi Arabia</td>\n",
              "      <td>en</td>\n",
              "      <td>Saudi_airlines</td>\n",
              "      <td>dear guest flight india saudi arabia time fli...</td>\n",
              "      <td>0.000</td>\n",
              "      <td>0.000</td>\n",
              "      <td>Neutral</td>\n",
              "    </tr>\n",
              "    <tr>\n",
              "      <th>9</th>\n",
              "      <td>9</td>\n",
              "      <td>57</td>\n",
              "      <td>1335266364739694593</td>\n",
              "      <td>2020-12-05 16:54:44</td>\n",
              "      <td>hello dear guest imran please provide us with...</td>\n",
              "      <td>0</td>\n",
              "      <td>False</td>\n",
              "      <td>Saudi Arabia</td>\n",
              "      <td>en</td>\n",
              "      <td>Saudi_airlines</td>\n",
              "      <td>hello dear guest imran please provide u ticke...</td>\n",
              "      <td>0.400</td>\n",
              "      <td>0.100</td>\n",
              "      <td>Positive</td>\n",
              "    </tr>\n",
              "  </tbody>\n",
              "</table>\n",
              "</div>"
            ],
            "text/plain": [
              "   Unnamed: 0  Unnamed: 0.1  ...  polarity sentiment\n",
              "0           0            14  ...     0.600  Positive\n",
              "1           1            23  ...    -0.125  Negative\n",
              "2           2            29  ...     0.100  Positive\n",
              "3           3            38  ...     0.000   Neutral\n",
              "4           4            43  ...     0.000   Neutral\n",
              "5           5            50  ...     0.000   Neutral\n",
              "6           6            51  ...     0.000   Neutral\n",
              "7           7            53  ...     0.000   Neutral\n",
              "8           8            55  ...     0.000   Neutral\n",
              "9           9            57  ...     0.100  Positive\n",
              "\n",
              "[10 rows x 14 columns]"
            ]
          },
          "metadata": {
            "tags": []
          },
          "execution_count": 17
        }
      ]
    },
    {
      "cell_type": "markdown",
      "metadata": {
        "id": "YeEins72_lWn"
      },
      "source": [
        "#EDA"
      ]
    },
    {
      "cell_type": "code",
      "metadata": {
        "colab": {
          "base_uri": "https://localhost:8080/"
        },
        "id": "gtNbyvBQ_oWZ",
        "outputId": "ac1d8522-a8b9-458c-8c8f-c9e2dd212be3"
      },
      "source": [
        "saudia_airlines.shape"
      ],
      "execution_count": 49,
      "outputs": [
        {
          "output_type": "execute_result",
          "data": {
            "text/plain": [
              "(1464, 8)"
            ]
          },
          "metadata": {
            "tags": []
          },
          "execution_count": 49
        }
      ]
    },
    {
      "cell_type": "code",
      "metadata": {
        "colab": {
          "base_uri": "https://localhost:8080/"
        },
        "id": "Z92hKsl-_ocA",
        "outputId": "54ab250b-7b4f-4e0d-ca04-3d52042bb1b7"
      },
      "source": [
        "saudia_airlines.columns"
      ],
      "execution_count": 51,
      "outputs": [
        {
          "output_type": "execute_result",
          "data": {
            "text/plain": [
              "Index(['likes', 'retweeted', 'location', 'airline', 'nonstop_documents',\n",
              "       'sentiment_confidence', 'polarity', 'sentiment'],\n",
              "      dtype='object')"
            ]
          },
          "metadata": {
            "tags": []
          },
          "execution_count": 51
        }
      ]
    },
    {
      "cell_type": "code",
      "metadata": {
        "colab": {
          "base_uri": "https://localhost:8080/"
        },
        "id": "_Z25pH9-AXIr",
        "outputId": "71d14932-a523-4592-8afa-5c6ca88ff846"
      },
      "source": [
        "#Check for missing values\n",
        "100*saudia_airlines.isna().sum()/len(saudia_airlines)"
      ],
      "execution_count": 52,
      "outputs": [
        {
          "output_type": "execute_result",
          "data": {
            "text/plain": [
              "likes                   0.0\n",
              "retweeted               0.0\n",
              "location                0.0\n",
              "airline                 0.0\n",
              "nonstop_documents       0.0\n",
              "sentiment_confidence    0.0\n",
              "polarity                0.0\n",
              "sentiment               0.0\n",
              "dtype: float64"
            ]
          },
          "metadata": {
            "tags": []
          },
          "execution_count": 52
        }
      ]
    },
    {
      "cell_type": "code",
      "metadata": {
        "id": "LCsbsE_XAiVM"
      },
      "source": [
        "# Data balance\n",
        "def createPieChartFor(t_df):\n",
        "    Lst = 100*t_df.value_counts()/len(t_df)\n",
        "    \n",
        "    # set data for pie chart\n",
        "    labels = t_df.value_counts().index.values\n",
        "    sizes =  Lst \n",
        "    \n",
        "    # set labels\n",
        "    fig1, ax1 = plt.subplots()\n",
        "    ax1.pie(sizes, labels=labels, autopct='%1.2f%%', shadow=True, startangle=90)\n",
        "    ax1.axis('equal')  # Equal aspect ratio ensures that pie is drawn as a circle.\n",
        "    plt.show()"
      ],
      "execution_count": 54,
      "outputs": []
    },
    {
      "cell_type": "code",
      "metadata": {
        "colab": {
          "base_uri": "https://localhost:8080/",
          "height": 250
        },
        "id": "Nz1Fw8ggAlpO",
        "outputId": "287c086e-d733-4b8e-9cd7-a57ea00cb702"
      },
      "source": [
        "createPieChartFor(saudia_airlines.sentiment)"
      ],
      "execution_count": 55,
      "outputs": [
        {
          "output_type": "display_data",
          "data": {
            "image/png": "[encoded data removed]",
            "text/plain": [
              "<Figure size 432x288 with 1 Axes>"
            ]
          },
          "metadata": {
            "tags": []
          }
        }
      ]
    },
    {
      "cell_type": "code",
      "metadata": {
        "colab": {
          "base_uri": "https://localhost:8080/",
          "height": 254
        },
        "id": "JGp6-XDcAxuE",
        "outputId": "17b488db-bba0-45f0-f15a-9ac2554301c4"
      },
      "source": [
        "createPieChartFor(saudia_airlines.airline)"
      ],
      "execution_count": 56,
      "outputs": [
        {
          "output_type": "display_data",
          "data": {
            "image/png": "[encoded data removed]",
            "text/plain": [
              "<Figure size 432x288 with 1 Axes>"
            ]
          },
          "metadata": {
            "tags": []
          }
        }
      ]
    },
    {
      "cell_type": "markdown",
      "metadata": {
        "id": "8maoLTMAA4sn"
      },
      "source": [
        "now check total tweets for each of the airlines and\n",
        "\n",
        "\n",
        "how many of these tweets per airline are negative, positive and neutral"
      ]
    },
    {
      "cell_type": "code",
      "metadata": {
        "colab": {
          "base_uri": "https://localhost:8080/",
          "height": 356
        },
        "id": "cjX4uUqJA5hG",
        "outputId": "73911d16-3e2f-49b0-bea6-8a0d0198eec9"
      },
      "source": [
        "airline_sentiment_df = saudia_airlines.groupby(['airline','sentiment']).sentiment.count().unstack()\n",
        "airline_sentiment_df.plot(kind='bar')\n",
        "plt.legend(bbox_to_anchor=(1.04,1), loc=\"upper left\")"
      ],
      "execution_count": 58,
      "outputs": [
        {
          "output_type": "execute_result",
          "data": {
            "text/plain": [
              "<matplotlib.legend.Legend at 0x7fa643b897f0>"
            ]
          },
          "metadata": {
            "tags": []
          },
          "execution_count": 58
        },
        {
          "output_type": "display_data",
          "data": {
            "image/png": "[encoded data removed]",
            "text/plain": [
              "<Figure size 432x288 with 1 Axes>"
            ]
          },
          "metadata": {
            "tags": [],
            "needs_background": "light"
          }
        }
      ]
    },
    {
      "cell_type": "code",
      "metadata": {
        "id": "RlqywynsBir8"
      },
      "source": [
        "from wordcloud import WordCloud,STOPWORDS\n",
        "def createWrdCloudForSentiment(sentiment):\n",
        "    temp_df = saudia_airlines[saudia_airlines.sentiment==sentiment]\n",
        "    words = \" \".join(temp_df.nonstop_documents)\n",
        "    cleaned_words = \" \".join([w for w in words.split()\n",
        "                                  if 'http' not in w\n",
        "                                    and not w.startswith('@')\n",
        "                                    and w!='RT'])\n",
        "\n",
        "    wrdcld = WordCloud(stopwords=STOPWORDS,\n",
        "                      background_color='black',\n",
        "                      width=1500,\n",
        "                      height=1000).generate(cleaned_words)\n",
        "    plt.figure(figsize=(10,10))\n",
        "    plt.imshow(wrdcld)\n",
        "    plt.axis('off')\n",
        "    plt.show"
      ],
      "execution_count": 65,
      "outputs": []
    },
    {
      "cell_type": "code",
      "metadata": {
        "colab": {
          "base_uri": "https://localhost:8080/",
          "height": 403
        },
        "id": "9bPUN4h3BlJE",
        "outputId": "bedc999a-7a73-4940-a732-c201d0d79f1b"
      },
      "source": [
        "createWrdCloudForSentiment('Negative')"
      ],
      "execution_count": 67,
      "outputs": [
        {
          "output_type": "display_data",
          "data": {
            "image/png": "[encoded data removed]",
            "text/plain": [
              "<Figure size 720x720 with 1 Axes>"
            ]
          },
          "metadata": {
            "tags": [],
            "needs_background": "light"
          }
        }
      ]
    },
    {
      "cell_type": "code",
      "metadata": {
        "colab": {
          "base_uri": "https://localhost:8080/",
          "height": 403
        },
        "id": "VigPySaCCMIC",
        "outputId": "0f39f4f0-65e6-41a7-dca5-af29c5c69013"
      },
      "source": [
        "createWrdCloudForSentiment('Positive')"
      ],
      "execution_count": 68,
      "outputs": [
        {
          "output_type": "display_data",
          "data": {
            "image/png": "[encoded data removed]",
            "text/plain": [
              "<Figure size 720x720 with 1 Axes>"
            ]
          },
          "metadata": {
            "tags": [],
            "needs_background": "light"
          }
        }
      ]
    },
    {
      "cell_type": "code",
      "metadata": {
        "id": "M2OLt6hNBlU1"
      },
      "source": [
        ""
      ],
      "execution_count": null,
      "outputs": []
    },
    {
      "cell_type": "markdown",
      "metadata": {
        "id": "mYMS7ZgKaYqm"
      },
      "source": [
        "#preproccesing"
      ]
    },
    {
      "cell_type": "markdown",
      "metadata": {
        "id": "FR8f9LG44UH6"
      },
      "source": [
        "#Delete uninformative variables"
      ]
    },
    {
      "cell_type": "code",
      "metadata": {
        "id": "Nby1wEnn36uZ"
      },
      "source": [
        "saudia_airlines = saudia_airlines.drop(['Unnamed: 0','Unnamed: 0.1','tweet_id', 'text', 'language', 'created_at'], axis=1)"
      ],
      "execution_count": 21,
      "outputs": []
    },
    {
      "cell_type": "code",
      "metadata": {
        "colab": {
          "base_uri": "https://localhost:8080/",
          "height": 359
        },
        "id": "dxESn-v569is",
        "outputId": "87ca1470-6820-4d94-cd72-532096c71c86"
      },
      "source": [
        "saudia_airlines.head(10)"
      ],
      "execution_count": 22,
      "outputs": [
        {
          "output_type": "execute_result",
          "data": {
            "text/html": [
              "<div>\n",
              "<style scoped>\n",
              "    .dataframe tbody tr th:only-of-type {\n",
              "        vertical-align: middle;\n",
              "    }\n",
              "\n",
              "    .dataframe tbody tr th {\n",
              "        vertical-align: top;\n",
              "    }\n",
              "\n",
              "    .dataframe thead th {\n",
              "        text-align: right;\n",
              "    }\n",
              "</style>\n",
              "<table border=\"1\" class=\"dataframe\">\n",
              "  <thead>\n",
              "    <tr style=\"text-align: right;\">\n",
              "      <th></th>\n",
              "      <th>likes</th>\n",
              "      <th>retweeted</th>\n",
              "      <th>location</th>\n",
              "      <th>airline</th>\n",
              "      <th>nonstop_documents</th>\n",
              "      <th>sentiment_confidence</th>\n",
              "      <th>polarity</th>\n",
              "      <th>sentiment</th>\n",
              "    </tr>\n",
              "  </thead>\n",
              "  <tbody>\n",
              "    <tr>\n",
              "      <th>0</th>\n",
              "      <td>1</td>\n",
              "      <td>False</td>\n",
              "      <td>Saudi Arabia</td>\n",
              "      <td>Saudi_airlines</td>\n",
              "      <td>dear guest flight india saudi arabia time kin...</td>\n",
              "      <td>0.900</td>\n",
              "      <td>0.600</td>\n",
              "      <td>Positive</td>\n",
              "    </tr>\n",
              "    <tr>\n",
              "      <th>1</th>\n",
              "      <td>1</td>\n",
              "      <td>False</td>\n",
              "      <td>Saudi Arabia</td>\n",
              "      <td>Saudi_airlines</td>\n",
              "      <td>hello dear guest hope check informed travel u...</td>\n",
              "      <td>0.375</td>\n",
              "      <td>-0.125</td>\n",
              "      <td>Negative</td>\n",
              "    </tr>\n",
              "    <tr>\n",
              "      <th>2</th>\n",
              "      <td>0</td>\n",
              "      <td>False</td>\n",
              "      <td>Saudi Arabia</td>\n",
              "      <td>Saudi_airlines</td>\n",
              "      <td>hello dear guest please provide u booking num...</td>\n",
              "      <td>0.400</td>\n",
              "      <td>0.100</td>\n",
              "      <td>Positive</td>\n",
              "    </tr>\n",
              "    <tr>\n",
              "      <th>3</th>\n",
              "      <td>1</td>\n",
              "      <td>False</td>\n",
              "      <td>Saudi Arabia</td>\n",
              "      <td>Saudi_airlines</td>\n",
              "      <td>dear guest flight india saudi arabia time fli...</td>\n",
              "      <td>0.000</td>\n",
              "      <td>0.000</td>\n",
              "      <td>Neutral</td>\n",
              "    </tr>\n",
              "    <tr>\n",
              "      <th>4</th>\n",
              "      <td>1</td>\n",
              "      <td>False</td>\n",
              "      <td>Saudi Arabia</td>\n",
              "      <td>Saudi_airlines</td>\n",
              "      <td>hello dear guest follow flight schedule website</td>\n",
              "      <td>0.000</td>\n",
              "      <td>0.000</td>\n",
              "      <td>Neutral</td>\n",
              "    </tr>\n",
              "    <tr>\n",
              "      <th>5</th>\n",
              "      <td>0</td>\n",
              "      <td>False</td>\n",
              "      <td>Saudi Arabia</td>\n",
              "      <td>Saudi_airlines</td>\n",
              "      <td>dear guest flight india saudi arabia time fli...</td>\n",
              "      <td>0.000</td>\n",
              "      <td>0.000</td>\n",
              "      <td>Neutral</td>\n",
              "    </tr>\n",
              "    <tr>\n",
              "      <th>6</th>\n",
              "      <td>1</td>\n",
              "      <td>False</td>\n",
              "      <td>Saudi Arabia</td>\n",
              "      <td>Saudi_airlines</td>\n",
              "      <td>hello dear valued guest confirmation date lif...</td>\n",
              "      <td>0.000</td>\n",
              "      <td>0.000</td>\n",
              "      <td>Neutral</td>\n",
              "    </tr>\n",
              "    <tr>\n",
              "      <th>7</th>\n",
              "      <td>0</td>\n",
              "      <td>False</td>\n",
              "      <td>Saudi Arabia</td>\n",
              "      <td>Saudi_airlines</td>\n",
              "      <td>dear guest flight india saudi arabia time fli...</td>\n",
              "      <td>0.000</td>\n",
              "      <td>0.000</td>\n",
              "      <td>Neutral</td>\n",
              "    </tr>\n",
              "    <tr>\n",
              "      <th>8</th>\n",
              "      <td>0</td>\n",
              "      <td>False</td>\n",
              "      <td>Saudi Arabia</td>\n",
              "      <td>Saudi_airlines</td>\n",
              "      <td>dear guest flight india saudi arabia time fli...</td>\n",
              "      <td>0.000</td>\n",
              "      <td>0.000</td>\n",
              "      <td>Neutral</td>\n",
              "    </tr>\n",
              "    <tr>\n",
              "      <th>9</th>\n",
              "      <td>0</td>\n",
              "      <td>False</td>\n",
              "      <td>Saudi Arabia</td>\n",
              "      <td>Saudi_airlines</td>\n",
              "      <td>hello dear guest imran please provide u ticke...</td>\n",
              "      <td>0.400</td>\n",
              "      <td>0.100</td>\n",
              "      <td>Positive</td>\n",
              "    </tr>\n",
              "  </tbody>\n",
              "</table>\n",
              "</div>"
            ],
            "text/plain": [
              "   likes  retweeted      location  ... sentiment_confidence polarity  sentiment\n",
              "0      1      False  Saudi Arabia  ...                0.900    0.600   Positive\n",
              "1      1      False  Saudi Arabia  ...                0.375   -0.125   Negative\n",
              "2      0      False  Saudi Arabia  ...                0.400    0.100   Positive\n",
              "3      1      False  Saudi Arabia  ...                0.000    0.000    Neutral\n",
              "4      1      False  Saudi Arabia  ...                0.000    0.000    Neutral\n",
              "5      0      False  Saudi Arabia  ...                0.000    0.000    Neutral\n",
              "6      1      False  Saudi Arabia  ...                0.000    0.000    Neutral\n",
              "7      0      False  Saudi Arabia  ...                0.000    0.000    Neutral\n",
              "8      0      False  Saudi Arabia  ...                0.000    0.000    Neutral\n",
              "9      0      False  Saudi Arabia  ...                0.400    0.100   Positive\n",
              "\n",
              "[10 rows x 8 columns]"
            ]
          },
          "metadata": {
            "tags": []
          },
          "execution_count": 22
        }
      ]
    },
    {
      "cell_type": "markdown",
      "metadata": {
        "id": "G9IYNjbB7dcq"
      },
      "source": [
        "#Devide the dataset into predictors and target"
      ]
    },
    {
      "cell_type": "code",
      "metadata": {
        "id": "KzfbU2f67SLV"
      },
      "source": [
        "X = saudia_airlines.iloc[:,:-1].values #all predictor columns without the target\n",
        "y = saudia_airlines.iloc[:,-1].values #last column (target)"
      ],
      "execution_count": 25,
      "outputs": []
    },
    {
      "cell_type": "markdown",
      "metadata": {
        "id": "dzHQ5O2Q60AH"
      },
      "source": [
        "#Encoding the independent variables\n",
        "\n",
        "- retweeted\n",
        "- location\n",
        "- airline"
      ]
    },
    {
      "cell_type": "code",
      "metadata": {
        "colab": {
          "base_uri": "https://localhost:8080/"
        },
        "id": "yPoXXJej6Ybi",
        "outputId": "2ee393c2-4351-4485-b2ba-fce5aec717aa"
      },
      "source": [
        "ct = ColumnTransformer(transformers=[('encoder',\n",
        "                                      OneHotEncoder(), \n",
        "                                      [1,2,3])], \n",
        "                                      remainder='passthrough')\n",
        "\n",
        "X = ct.fit_transform(X)\n",
        "X = np.array(X)\n",
        "print(X)\n"
      ],
      "execution_count": 26,
      "outputs": [
        {
          "output_type": "stream",
          "text": [
            "[[1.0 1.0 1.0 ...\n",
            "  ' dear guest flight india saudi arabia time kindly follow flight ' 0.9\n",
            "  0.6]\n",
            " [1.0 1.0 1.0 ...\n",
            "  ' hello dear guest hope check informed travel update due corona virus covid '\n",
            "  0.375 -0.125]\n",
            " [1.0 1.0 1.0 ...\n",
            "  ' hello dear guest please provide u booking number direct message let know thank'\n",
            "  0.4 0.1]\n",
            " ...\n",
            " [1.0 1.0 1.0 ...\n",
            "  ' dear guest kindly check flight schedule choose flight info ' 0.9 0.6]\n",
            " [1.0 1.0 1.0 ... ' flight resumed show website book flight resident ex '\n",
            "  0.0 0.0]\n",
            " [1.0 1.0 1.0 ...\n",
            "  ' flight resumed show website yo book flight resident e ' 0.0 0.0]]\n"
          ],
          "name": "stdout"
        }
      ]
    },
    {
      "cell_type": "markdown",
      "metadata": {
        "id": "fpYnhqVkDliP"
      },
      "source": [
        "#Encoding the dependent variables\n"
      ]
    },
    {
      "cell_type": "code",
      "metadata": {
        "colab": {
          "base_uri": "https://localhost:8080/"
        },
        "id": "LTdr7dnLDlur",
        "outputId": "4cd4a680-709b-43cb-b902-11666ed31f05"
      },
      "source": [
        "from sklearn.preprocessing import LabelEncoder\n",
        "le = LabelEncoder()\n",
        "y = le.fit_transform(y)\n",
        "print(y)"
      ],
      "execution_count": 27,
      "outputs": [
        {
          "output_type": "stream",
          "text": [
            "[2 0 2 ... 2 1 1]\n"
          ],
          "name": "stdout"
        }
      ]
    },
    {
      "cell_type": "markdown",
      "metadata": {
        "id": "tMXrObNkC-ix"
      },
      "source": [
        "Dealing with datetime"
      ]
    },
    {
      "cell_type": "code",
      "metadata": {
        "id": "P88FnfBg_d3l"
      },
      "source": [
        "from datetime import datetime\n",
        "for date in saudia_airlines.iloc[:,0]:\n",
        "  datetime_object = datetime.strptime(date, '%Y-%m-%d %H:%M:%S')"
      ],
      "execution_count": 61,
      "outputs": []
    },
    {
      "cell_type": "code",
      "metadata": {
        "colab": {
          "base_uri": "https://localhost:8080/"
        },
        "id": "J9Ys0dj3_3rN",
        "outputId": "3d2e6b19-8b4a-43b2-8c9d-394f2ace1c1e"
      },
      "source": [
        "saudia_airlines.iloc[:,0]"
      ],
      "execution_count": 62,
      "outputs": [
        {
          "output_type": "execute_result",
          "data": {
            "text/plain": [
              "0       2020-12-06 01:21:16\n",
              "1       2020-12-05 21:37:29\n",
              "2       2020-12-05 21:24:45\n",
              "3       2020-12-05 20:36:03\n",
              "4       2020-12-05 20:07:02\n",
              "               ...         \n",
              "1459    2020-10-25 13:13:11\n",
              "1460    2020-10-25 13:13:05\n",
              "1461    2020-10-25 13:13:00\n",
              "1462    2020-10-25 12:18:46\n",
              "1463    2020-10-25 12:13:41\n",
              "Name: created_at, Length: 1464, dtype: object"
            ]
          },
          "metadata": {
            "tags": []
          },
          "execution_count": 62
        }
      ]
    },
    {
      "cell_type": "markdown",
      "metadata": {
        "id": "99NoXHNADEAP"
      },
      "source": [
        "for now I will delete and next time I'll add it and see if it can affect the classification"
      ]
    },
    {
      "cell_type": "code",
      "metadata": {
        "id": "YU3A2HORDMw9"
      },
      "source": [
        "saudia_airlines = saudia_airlines.drop(['created_at'], axis=1)"
      ],
      "execution_count": 63,
      "outputs": []
    },
    {
      "cell_type": "code",
      "metadata": {
        "id": "kLuHtoVGTxWc"
      },
      "source": [
        "saudia_airlines['Tweet_nonstop']"
      ],
      "execution_count": null,
      "outputs": []
    },
    {
      "cell_type": "markdown",
      "metadata": {
        "id": "oacRo_7uEs3T"
      },
      "source": [
        "#Extracting Features from Cleaned Tweets\n",
        "\n",
        "https://www.analyticsvidhya.com/blog/2018/07/hands-on-sentiment-analysis-dataset-python/\n",
        "\n"
      ]
    },
    {
      "cell_type": "markdown",
      "metadata": {
        "id": "lXeH8YorUXsO"
      },
      "source": [
        "CounterVectorizer method needs a list of strings and not tokens.*italicized text*"
      ]
    },
    {
      "cell_type": "markdown",
      "metadata": {
        "id": "697UvFrzS1Ez"
      },
      "source": [
        "#Model calibration\n",
        "\n",
        "https://towardsdatascience.com/classifier-calibration-7d0be1e05452"
      ]
    },
    {
      "cell_type": "markdown",
      "metadata": {
        "id": "DsPhCRmr-bab"
      },
      "source": [
        "Let us now plot the Kernel Density Estimation for the two classifiers."
      ]
    },
    {
      "cell_type": "code",
      "metadata": {
        "id": "Tjrhm7_3-aXf"
      },
      "source": [
        "plt.figure(figsize=(10,6))\n",
        "sns.kdeplot(probs_lgr, label='Logistic regression')\n",
        "sns.kdeplot(preds_svc, label='SVM')\n",
        "plt.title(\"Probability Density Plot for 2 Classifiers\")\n",
        "plt.show()"
      ],
      "execution_count": null,
      "outputs": []
    },
    {
      "cell_type": "markdown",
      "metadata": {
        "id": "lyWwbreAYcR1"
      },
      "source": [
        "let us check the AUC-ROC curve for the two binary classifiers, but this time using the probabilities we calculated for the SVM."
      ]
    },
    {
      "cell_type": "code",
      "metadata": {
        "id": "G3RfeO8iYcyf"
      },
      "source": [
        "from sklearn import metrics\n",
        "\n",
        "\n",
        "plt.figure(figsize=(8,6))\n",
        "plt.plot([0, 1], [0, 1],'r--')\n",
        "\n",
        "pred = probs_lgr\n",
        "label = y_test\n",
        "fpr, tpr, thresh = metrics.roc_curve(label, pred)\n",
        "auc = metrics.roc_auc_score(label, pred)\n",
        "plt.plot(fpr, tpr, label=f'Logistic regression, auc = {str(round(auc,3))}')\n",
        "\n",
        "pred = probs_svc\n",
        "fpr, tpr, thresh = metrics.roc_curve(label, pred)\n",
        "auc = metrics.roc_auc_score(label, pred)\n",
        "plt.plot(fpr, tpr, label=f'SVC, auc = {str(round(auc,3))}')\n",
        "\n",
        "plt.ylabel(\"True Positive Rate\")\n",
        "plt.xlabel(\"False Positive Rate\")\n",
        "plt.title(\"AUC-ROC for two models\")\n",
        "plt.legend()\n",
        "plt.show()"
      ],
      "execution_count": null,
      "outputs": []
    },
    {
      "cell_type": "markdown",
      "metadata": {
        "id": "mh2qqzl7Yk6H"
      },
      "source": [
        "To plot the calibration curve of each classifier we define a utility function like the one below.\n"
      ]
    },
    {
      "cell_type": "code",
      "metadata": {
        "id": "mV_AJMbUYn4c"
      },
      "source": [
        "from sklearn.calibration import calibration_curve\n",
        "\n",
        "\n",
        "def plot_calibration_curve(name, fig_index, probs):\n",
        "    \"\"\"Plot calibration curve for est w/o and with calibration. \"\"\"\n",
        "\n",
        "    fig = plt.figure(fig_index, figsize=(10, 10))\n",
        "    ax1 = plt.subplot2grid((3, 1), (0, 0), rowspan=2)\n",
        "    ax2 = plt.subplot2grid((3, 1), (2, 0))\n",
        "    \n",
        "    ax1.plot([0, 1], [0, 1], \"k:\", label=\"Perfectly calibrated\")\n",
        "    \n",
        "    frac_of_pos, mean_pred_value = calibration_curve(y_test, probs, n_bins=10)\n",
        "\n",
        "    ax1.plot(mean_pred_value, frac_of_pos, \"s-\", label=f'{name}')\n",
        "    ax1.set_ylabel(\"Fraction of positives\")\n",
        "    ax1.set_ylim([-0.05, 1.05])\n",
        "    ax1.legend(loc=\"lower right\")\n",
        "    ax1.set_title(f'Calibration plot ({name})')\n",
        "    \n",
        "    ax2.hist(probs, range=(0, 1), bins=10, label=name, histtype=\"step\", lw=2)\n",
        "    ax2.set_xlabel(\"Mean predicted value\")\n",
        "    ax2.set_ylabel(\"Count\")"
      ],
      "execution_count": null,
      "outputs": []
    },
    {
      "cell_type": "code",
      "metadata": {
        "id": "WwzJQIZuYr3e"
      },
      "source": [
        "# plot calibration curve for logistic regression\n",
        "plot_calibration_curve(\"Logistic regression\", 1, probs_lgr)"
      ],
      "execution_count": null,
      "outputs": []
    },
    {
      "cell_type": "code",
      "metadata": {
        "id": "5jZllfTDYxH7"
      },
      "source": [
        "# plot calibration curve for the SVM\n",
        "plot_calibration_curve(\"SVM\", 1, probs_svc)"
      ],
      "execution_count": null,
      "outputs": []
    },
    {
      "cell_type": "markdown",
      "metadata": {
        "id": "VbxdScdwY13i"
      },
      "source": [
        "#Calibrating the model\n",
        "\n",
        "The two most popular methods of calibrating a machine learning model are the isotonic and Platt's method."
      ]
    },
    {
      "cell_type": "code",
      "metadata": {
        "id": "jZJ0DGFoY2sE"
      },
      "source": [
        "from sklearn.calibration import CalibratedClassifierCV\n",
        "\n",
        "\n",
        "lgr = LogisticRegression(C=1, solver='lbfgs')\n",
        "svc = SVC(max_iter=10000, probability=True)\n",
        "\n",
        "platts_scaling = CalibratedClassifierCV(svc, cv=2, method='sigmoid')\n",
        "platts_scaling.fit(X_train, y_train)\n",
        "calibrated_probs = platts_scaling.predict_proba(X_test)[:,1]\n",
        "\n",
        "plot_calibration_curve(\"SVM\", 3, calibrated_probs)"
      ],
      "execution_count": null,
      "outputs": []
    },
    {
      "cell_type": "markdown",
      "metadata": {
        "id": "wY0BomF1zse-"
      },
      "source": [
        "#Test-Train split"
      ]
    },
    {
      "cell_type": "code",
      "metadata": {
        "id": "9j2u6MMMzul4"
      },
      "source": [
        "train_df, test_df = train_test_split(saudia_airlines, test_size=0.3, random_state=42)"
      ],
      "execution_count": 34,
      "outputs": []
    },
    {
      "cell_type": "code",
      "metadata": {
        "id": "uCR_5HiD6tV0"
      },
      "source": [
        "train_tweets =[]\n",
        "for tweet in train_df.nonstop_documents:\n",
        "    train_tweets.append(tweet)\n",
        "    \n",
        "test_tweets =[]\n",
        "for tweet in test_df.nonstop_documents:\n",
        "    test_tweets.append(tweet)"
      ],
      "execution_count": 35,
      "outputs": []
    },
    {
      "cell_type": "markdown",
      "metadata": {
        "id": "IYjXKzdy_KMi"
      },
      "source": [
        "#TF-IDF Features\n",
        "\n",
        "This method  is based on the frequency method but it is different to the bag-of-words approach in the sense that it takes into account, not just the occurrence of a word in a single document (or tweet) but in the entire corpus."
      ]
    },
    {
      "cell_type": "code",
      "metadata": {
        "id": "lSOil_aA65Xw"
      },
      "source": [
        "# bag of words model\n",
        "vectorizer = TfidfVectorizer()\n",
        "train_tfidf_model = vectorizer.fit_transform(train_tweets)\n",
        "test_tfidf_model = vectorizer.transform(test_tweets)"
      ],
      "execution_count": 36,
      "outputs": []
    },
    {
      "cell_type": "code",
      "metadata": {
        "colab": {
          "base_uri": "https://localhost:8080/",
          "height": 439
        },
        "id": "_ro_9xL_69_A",
        "outputId": "5b0c8a61-e307-4bf6-d4fb-3aabd8473706"
      },
      "source": [
        "# let's look at the dataframe\n",
        "train_tfidf = pd.DataFrame(train_tfidf_model.toarray(), columns=vectorizer.get_feature_names())\n",
        "train_tfidf"
      ],
      "execution_count": 37,
      "outputs": [
        {
          "output_type": "execute_result",
          "data": {
            "text/html": [
              "<div>\n",
              "<style scoped>\n",
              "    .dataframe tbody tr th:only-of-type {\n",
              "        vertical-align: middle;\n",
              "    }\n",
              "\n",
              "    .dataframe tbody tr th {\n",
              "        vertical-align: top;\n",
              "    }\n",
              "\n",
              "    .dataframe thead th {\n",
              "        text-align: right;\n",
              "    }\n",
              "</style>\n",
              "<table border=\"1\" class=\"dataframe\">\n",
              "  <thead>\n",
              "    <tr style=\"text-align: right;\">\n",
              "      <th></th>\n",
              "      <th>aasif</th>\n",
              "      <th>abdullah</th>\n",
              "      <th>abha</th>\n",
              "      <th>according</th>\n",
              "      <th>added</th>\n",
              "      <th>agency</th>\n",
              "      <th>ahmed</th>\n",
              "      <th>airline</th>\n",
              "      <th>allow</th>\n",
              "      <th>allowance</th>\n",
              "      <th>allowed</th>\n",
              "      <th>alq</th>\n",
              "      <th>always</th>\n",
              "      <th>amp</th>\n",
              "      <th>ann</th>\n",
              "      <th>announ</th>\n",
              "      <th>announce</th>\n",
              "      <th>announced</th>\n",
              "      <th>answered</th>\n",
              "      <th>arabia</th>\n",
              "      <th>arai</th>\n",
              "      <th>around</th>\n",
              "      <th>arslan</th>\n",
              "      <th>assist</th>\n",
              "      <th>aut</th>\n",
              "      <th>auth</th>\n",
              "      <th>autho</th>\n",
              "      <th>author</th>\n",
              "      <th>authori</th>\n",
              "      <th>authorit</th>\n",
              "      <th>authority</th>\n",
              "      <th>availab</th>\n",
              "      <th>availability</th>\n",
              "      <th>availabl</th>\n",
              "      <th>available</th>\n",
              "      <th>avoid</th>\n",
              "      <th>back</th>\n",
              "      <th>baggage</th>\n",
              "      <th>benefit</th>\n",
              "      <th>biswanatha</th>\n",
              "      <th>...</th>\n",
              "      <th>vi</th>\n",
              "      <th>via</th>\n",
              "      <th>virus</th>\n",
              "      <th>visa</th>\n",
              "      <th>visi</th>\n",
              "      <th>visit</th>\n",
              "      <th>visiting</th>\n",
              "      <th>voucher</th>\n",
              "      <th>wa</th>\n",
              "      <th>wasay</th>\n",
              "      <th>waseem</th>\n",
              "      <th>weather</th>\n",
              "      <th>websit</th>\n",
              "      <th>website</th>\n",
              "      <th>weekly</th>\n",
              "      <th>welcome</th>\n",
              "      <th>wide</th>\n",
              "      <th>wifi</th>\n",
              "      <th>wish</th>\n",
              "      <th>within</th>\n",
              "      <th>without</th>\n",
              "      <th>work</th>\n",
              "      <th>working</th>\n",
              "      <th>world</th>\n",
              "      <th>worldwide</th>\n",
              "      <th>would</th>\n",
              "      <th>yes</th>\n",
              "      <th>youre</th>\n",
              "      <th>youthank</th>\n",
              "      <th>youve</th>\n",
              "      <th>yqhlhvzmdf</th>\n",
              "      <th>zafarx</th>\n",
              "      <th>zam</th>\n",
              "      <th>zuel</th>\n",
              "      <th>الخطوطالسعودية</th>\n",
              "      <th>تهم</th>\n",
              "      <th>شهرالتوعيةبصحةالرجل</th>\n",
              "      <th>صحتك</th>\n",
              "      <th>موفمبر</th>\n",
              "      <th>نا</th>\n",
              "    </tr>\n",
              "  </thead>\n",
              "  <tbody>\n",
              "    <tr>\n",
              "      <th>0</th>\n",
              "      <td>0.0</td>\n",
              "      <td>0.0</td>\n",
              "      <td>0.0</td>\n",
              "      <td>0.0</td>\n",
              "      <td>0.0</td>\n",
              "      <td>0.0</td>\n",
              "      <td>0.0</td>\n",
              "      <td>0.0</td>\n",
              "      <td>0.0</td>\n",
              "      <td>0.0</td>\n",
              "      <td>0.0</td>\n",
              "      <td>0.0</td>\n",
              "      <td>0.0</td>\n",
              "      <td>0.0</td>\n",
              "      <td>0.0</td>\n",
              "      <td>0.0</td>\n",
              "      <td>0.0</td>\n",
              "      <td>0.0</td>\n",
              "      <td>0.0</td>\n",
              "      <td>0.000000</td>\n",
              "      <td>0.0</td>\n",
              "      <td>0.000000</td>\n",
              "      <td>0.0</td>\n",
              "      <td>0.274592</td>\n",
              "      <td>0.0</td>\n",
              "      <td>0.0</td>\n",
              "      <td>0.0</td>\n",
              "      <td>0.0</td>\n",
              "      <td>0.0</td>\n",
              "      <td>0.0</td>\n",
              "      <td>0.0</td>\n",
              "      <td>0.0</td>\n",
              "      <td>0.0</td>\n",
              "      <td>0.0</td>\n",
              "      <td>0.0</td>\n",
              "      <td>0.0</td>\n",
              "      <td>0.0</td>\n",
              "      <td>0.0</td>\n",
              "      <td>0.0</td>\n",
              "      <td>0.0</td>\n",
              "      <td>...</td>\n",
              "      <td>0.0</td>\n",
              "      <td>0.260913</td>\n",
              "      <td>0.000000</td>\n",
              "      <td>0.0</td>\n",
              "      <td>0.0</td>\n",
              "      <td>0.0</td>\n",
              "      <td>0.000000</td>\n",
              "      <td>0.0</td>\n",
              "      <td>0.0</td>\n",
              "      <td>0.0</td>\n",
              "      <td>0.0</td>\n",
              "      <td>0.0</td>\n",
              "      <td>0.0</td>\n",
              "      <td>0.0</td>\n",
              "      <td>0.0</td>\n",
              "      <td>0.0</td>\n",
              "      <td>0.0</td>\n",
              "      <td>0.0</td>\n",
              "      <td>0.0</td>\n",
              "      <td>0.0</td>\n",
              "      <td>0.0</td>\n",
              "      <td>0.0</td>\n",
              "      <td>0.0</td>\n",
              "      <td>0.000000</td>\n",
              "      <td>0.0</td>\n",
              "      <td>0.0</td>\n",
              "      <td>0.0</td>\n",
              "      <td>0.0</td>\n",
              "      <td>0.0</td>\n",
              "      <td>0.0</td>\n",
              "      <td>0.0</td>\n",
              "      <td>0.0</td>\n",
              "      <td>0.0</td>\n",
              "      <td>0.0</td>\n",
              "      <td>0.0</td>\n",
              "      <td>0.0</td>\n",
              "      <td>0.0</td>\n",
              "      <td>0.0</td>\n",
              "      <td>0.0</td>\n",
              "      <td>0.0</td>\n",
              "    </tr>\n",
              "    <tr>\n",
              "      <th>1</th>\n",
              "      <td>0.0</td>\n",
              "      <td>0.0</td>\n",
              "      <td>0.0</td>\n",
              "      <td>0.0</td>\n",
              "      <td>0.0</td>\n",
              "      <td>0.0</td>\n",
              "      <td>0.0</td>\n",
              "      <td>0.0</td>\n",
              "      <td>0.0</td>\n",
              "      <td>0.0</td>\n",
              "      <td>0.0</td>\n",
              "      <td>0.0</td>\n",
              "      <td>0.0</td>\n",
              "      <td>0.0</td>\n",
              "      <td>0.0</td>\n",
              "      <td>0.0</td>\n",
              "      <td>0.0</td>\n",
              "      <td>0.0</td>\n",
              "      <td>0.0</td>\n",
              "      <td>0.000000</td>\n",
              "      <td>0.0</td>\n",
              "      <td>0.000000</td>\n",
              "      <td>0.0</td>\n",
              "      <td>0.000000</td>\n",
              "      <td>0.0</td>\n",
              "      <td>0.0</td>\n",
              "      <td>0.0</td>\n",
              "      <td>0.0</td>\n",
              "      <td>0.0</td>\n",
              "      <td>0.0</td>\n",
              "      <td>0.0</td>\n",
              "      <td>0.0</td>\n",
              "      <td>0.0</td>\n",
              "      <td>0.0</td>\n",
              "      <td>0.0</td>\n",
              "      <td>0.0</td>\n",
              "      <td>0.0</td>\n",
              "      <td>0.0</td>\n",
              "      <td>0.0</td>\n",
              "      <td>0.0</td>\n",
              "      <td>...</td>\n",
              "      <td>0.0</td>\n",
              "      <td>0.000000</td>\n",
              "      <td>0.306809</td>\n",
              "      <td>0.0</td>\n",
              "      <td>0.0</td>\n",
              "      <td>0.0</td>\n",
              "      <td>0.000000</td>\n",
              "      <td>0.0</td>\n",
              "      <td>0.0</td>\n",
              "      <td>0.0</td>\n",
              "      <td>0.0</td>\n",
              "      <td>0.0</td>\n",
              "      <td>0.0</td>\n",
              "      <td>0.0</td>\n",
              "      <td>0.0</td>\n",
              "      <td>0.0</td>\n",
              "      <td>0.0</td>\n",
              "      <td>0.0</td>\n",
              "      <td>0.0</td>\n",
              "      <td>0.0</td>\n",
              "      <td>0.0</td>\n",
              "      <td>0.0</td>\n",
              "      <td>0.0</td>\n",
              "      <td>0.000000</td>\n",
              "      <td>0.0</td>\n",
              "      <td>0.0</td>\n",
              "      <td>0.0</td>\n",
              "      <td>0.0</td>\n",
              "      <td>0.0</td>\n",
              "      <td>0.0</td>\n",
              "      <td>0.0</td>\n",
              "      <td>0.0</td>\n",
              "      <td>0.0</td>\n",
              "      <td>0.0</td>\n",
              "      <td>0.0</td>\n",
              "      <td>0.0</td>\n",
              "      <td>0.0</td>\n",
              "      <td>0.0</td>\n",
              "      <td>0.0</td>\n",
              "      <td>0.0</td>\n",
              "    </tr>\n",
              "    <tr>\n",
              "      <th>2</th>\n",
              "      <td>0.0</td>\n",
              "      <td>0.0</td>\n",
              "      <td>0.0</td>\n",
              "      <td>0.0</td>\n",
              "      <td>0.0</td>\n",
              "      <td>0.0</td>\n",
              "      <td>0.0</td>\n",
              "      <td>0.0</td>\n",
              "      <td>0.0</td>\n",
              "      <td>0.0</td>\n",
              "      <td>0.0</td>\n",
              "      <td>0.0</td>\n",
              "      <td>0.0</td>\n",
              "      <td>0.0</td>\n",
              "      <td>0.0</td>\n",
              "      <td>0.0</td>\n",
              "      <td>0.0</td>\n",
              "      <td>0.0</td>\n",
              "      <td>0.0</td>\n",
              "      <td>0.000000</td>\n",
              "      <td>0.0</td>\n",
              "      <td>0.000000</td>\n",
              "      <td>0.0</td>\n",
              "      <td>0.289178</td>\n",
              "      <td>0.0</td>\n",
              "      <td>0.0</td>\n",
              "      <td>0.0</td>\n",
              "      <td>0.0</td>\n",
              "      <td>0.0</td>\n",
              "      <td>0.0</td>\n",
              "      <td>0.0</td>\n",
              "      <td>0.0</td>\n",
              "      <td>0.0</td>\n",
              "      <td>0.0</td>\n",
              "      <td>0.0</td>\n",
              "      <td>0.0</td>\n",
              "      <td>0.0</td>\n",
              "      <td>0.0</td>\n",
              "      <td>0.0</td>\n",
              "      <td>0.0</td>\n",
              "      <td>...</td>\n",
              "      <td>0.0</td>\n",
              "      <td>0.000000</td>\n",
              "      <td>0.000000</td>\n",
              "      <td>0.0</td>\n",
              "      <td>0.0</td>\n",
              "      <td>0.0</td>\n",
              "      <td>0.000000</td>\n",
              "      <td>0.0</td>\n",
              "      <td>0.0</td>\n",
              "      <td>0.0</td>\n",
              "      <td>0.0</td>\n",
              "      <td>0.0</td>\n",
              "      <td>0.0</td>\n",
              "      <td>0.0</td>\n",
              "      <td>0.0</td>\n",
              "      <td>0.0</td>\n",
              "      <td>0.0</td>\n",
              "      <td>0.0</td>\n",
              "      <td>0.0</td>\n",
              "      <td>0.0</td>\n",
              "      <td>0.0</td>\n",
              "      <td>0.0</td>\n",
              "      <td>0.0</td>\n",
              "      <td>0.000000</td>\n",
              "      <td>0.0</td>\n",
              "      <td>0.0</td>\n",
              "      <td>0.0</td>\n",
              "      <td>0.0</td>\n",
              "      <td>0.0</td>\n",
              "      <td>0.0</td>\n",
              "      <td>0.0</td>\n",
              "      <td>0.0</td>\n",
              "      <td>0.0</td>\n",
              "      <td>0.0</td>\n",
              "      <td>0.0</td>\n",
              "      <td>0.0</td>\n",
              "      <td>0.0</td>\n",
              "      <td>0.0</td>\n",
              "      <td>0.0</td>\n",
              "      <td>0.0</td>\n",
              "    </tr>\n",
              "    <tr>\n",
              "      <th>3</th>\n",
              "      <td>0.0</td>\n",
              "      <td>0.0</td>\n",
              "      <td>0.0</td>\n",
              "      <td>0.0</td>\n",
              "      <td>0.0</td>\n",
              "      <td>0.0</td>\n",
              "      <td>0.0</td>\n",
              "      <td>0.0</td>\n",
              "      <td>0.0</td>\n",
              "      <td>0.0</td>\n",
              "      <td>0.0</td>\n",
              "      <td>0.0</td>\n",
              "      <td>0.0</td>\n",
              "      <td>0.0</td>\n",
              "      <td>0.0</td>\n",
              "      <td>0.0</td>\n",
              "      <td>0.0</td>\n",
              "      <td>0.0</td>\n",
              "      <td>0.0</td>\n",
              "      <td>0.000000</td>\n",
              "      <td>0.0</td>\n",
              "      <td>0.000000</td>\n",
              "      <td>0.0</td>\n",
              "      <td>0.000000</td>\n",
              "      <td>0.0</td>\n",
              "      <td>0.0</td>\n",
              "      <td>0.0</td>\n",
              "      <td>0.0</td>\n",
              "      <td>0.0</td>\n",
              "      <td>0.0</td>\n",
              "      <td>0.0</td>\n",
              "      <td>0.0</td>\n",
              "      <td>0.0</td>\n",
              "      <td>0.0</td>\n",
              "      <td>0.0</td>\n",
              "      <td>0.0</td>\n",
              "      <td>0.0</td>\n",
              "      <td>0.0</td>\n",
              "      <td>0.0</td>\n",
              "      <td>0.0</td>\n",
              "      <td>...</td>\n",
              "      <td>0.0</td>\n",
              "      <td>0.000000</td>\n",
              "      <td>0.000000</td>\n",
              "      <td>0.0</td>\n",
              "      <td>0.0</td>\n",
              "      <td>0.0</td>\n",
              "      <td>0.000000</td>\n",
              "      <td>0.0</td>\n",
              "      <td>0.0</td>\n",
              "      <td>0.0</td>\n",
              "      <td>0.0</td>\n",
              "      <td>0.0</td>\n",
              "      <td>0.0</td>\n",
              "      <td>0.0</td>\n",
              "      <td>0.0</td>\n",
              "      <td>0.0</td>\n",
              "      <td>0.0</td>\n",
              "      <td>0.0</td>\n",
              "      <td>0.0</td>\n",
              "      <td>0.0</td>\n",
              "      <td>0.0</td>\n",
              "      <td>0.0</td>\n",
              "      <td>0.0</td>\n",
              "      <td>0.000000</td>\n",
              "      <td>0.0</td>\n",
              "      <td>0.0</td>\n",
              "      <td>0.0</td>\n",
              "      <td>0.0</td>\n",
              "      <td>0.0</td>\n",
              "      <td>0.0</td>\n",
              "      <td>0.0</td>\n",
              "      <td>0.0</td>\n",
              "      <td>0.0</td>\n",
              "      <td>0.0</td>\n",
              "      <td>0.0</td>\n",
              "      <td>0.0</td>\n",
              "      <td>0.0</td>\n",
              "      <td>0.0</td>\n",
              "      <td>0.0</td>\n",
              "      <td>0.0</td>\n",
              "    </tr>\n",
              "    <tr>\n",
              "      <th>4</th>\n",
              "      <td>0.0</td>\n",
              "      <td>0.0</td>\n",
              "      <td>0.0</td>\n",
              "      <td>0.0</td>\n",
              "      <td>0.0</td>\n",
              "      <td>0.0</td>\n",
              "      <td>0.0</td>\n",
              "      <td>0.0</td>\n",
              "      <td>0.0</td>\n",
              "      <td>0.0</td>\n",
              "      <td>0.0</td>\n",
              "      <td>0.0</td>\n",
              "      <td>0.0</td>\n",
              "      <td>0.0</td>\n",
              "      <td>0.0</td>\n",
              "      <td>0.0</td>\n",
              "      <td>0.0</td>\n",
              "      <td>0.0</td>\n",
              "      <td>0.0</td>\n",
              "      <td>0.000000</td>\n",
              "      <td>0.0</td>\n",
              "      <td>0.000000</td>\n",
              "      <td>0.0</td>\n",
              "      <td>0.000000</td>\n",
              "      <td>0.0</td>\n",
              "      <td>0.0</td>\n",
              "      <td>0.0</td>\n",
              "      <td>0.0</td>\n",
              "      <td>0.0</td>\n",
              "      <td>0.0</td>\n",
              "      <td>0.0</td>\n",
              "      <td>0.0</td>\n",
              "      <td>0.0</td>\n",
              "      <td>0.0</td>\n",
              "      <td>0.0</td>\n",
              "      <td>0.0</td>\n",
              "      <td>0.0</td>\n",
              "      <td>0.0</td>\n",
              "      <td>0.0</td>\n",
              "      <td>0.0</td>\n",
              "      <td>...</td>\n",
              "      <td>0.0</td>\n",
              "      <td>0.000000</td>\n",
              "      <td>0.000000</td>\n",
              "      <td>0.0</td>\n",
              "      <td>0.0</td>\n",
              "      <td>0.0</td>\n",
              "      <td>0.000000</td>\n",
              "      <td>0.0</td>\n",
              "      <td>0.0</td>\n",
              "      <td>0.0</td>\n",
              "      <td>0.0</td>\n",
              "      <td>0.0</td>\n",
              "      <td>0.0</td>\n",
              "      <td>0.0</td>\n",
              "      <td>0.0</td>\n",
              "      <td>0.0</td>\n",
              "      <td>0.0</td>\n",
              "      <td>0.0</td>\n",
              "      <td>0.0</td>\n",
              "      <td>0.0</td>\n",
              "      <td>0.0</td>\n",
              "      <td>0.0</td>\n",
              "      <td>0.0</td>\n",
              "      <td>0.000000</td>\n",
              "      <td>0.0</td>\n",
              "      <td>0.0</td>\n",
              "      <td>0.0</td>\n",
              "      <td>0.0</td>\n",
              "      <td>0.0</td>\n",
              "      <td>0.0</td>\n",
              "      <td>0.0</td>\n",
              "      <td>0.0</td>\n",
              "      <td>0.0</td>\n",
              "      <td>0.0</td>\n",
              "      <td>0.0</td>\n",
              "      <td>0.0</td>\n",
              "      <td>0.0</td>\n",
              "      <td>0.0</td>\n",
              "      <td>0.0</td>\n",
              "      <td>0.0</td>\n",
              "    </tr>\n",
              "    <tr>\n",
              "      <th>...</th>\n",
              "      <td>...</td>\n",
              "      <td>...</td>\n",
              "      <td>...</td>\n",
              "      <td>...</td>\n",
              "      <td>...</td>\n",
              "      <td>...</td>\n",
              "      <td>...</td>\n",
              "      <td>...</td>\n",
              "      <td>...</td>\n",
              "      <td>...</td>\n",
              "      <td>...</td>\n",
              "      <td>...</td>\n",
              "      <td>...</td>\n",
              "      <td>...</td>\n",
              "      <td>...</td>\n",
              "      <td>...</td>\n",
              "      <td>...</td>\n",
              "      <td>...</td>\n",
              "      <td>...</td>\n",
              "      <td>...</td>\n",
              "      <td>...</td>\n",
              "      <td>...</td>\n",
              "      <td>...</td>\n",
              "      <td>...</td>\n",
              "      <td>...</td>\n",
              "      <td>...</td>\n",
              "      <td>...</td>\n",
              "      <td>...</td>\n",
              "      <td>...</td>\n",
              "      <td>...</td>\n",
              "      <td>...</td>\n",
              "      <td>...</td>\n",
              "      <td>...</td>\n",
              "      <td>...</td>\n",
              "      <td>...</td>\n",
              "      <td>...</td>\n",
              "      <td>...</td>\n",
              "      <td>...</td>\n",
              "      <td>...</td>\n",
              "      <td>...</td>\n",
              "      <td>...</td>\n",
              "      <td>...</td>\n",
              "      <td>...</td>\n",
              "      <td>...</td>\n",
              "      <td>...</td>\n",
              "      <td>...</td>\n",
              "      <td>...</td>\n",
              "      <td>...</td>\n",
              "      <td>...</td>\n",
              "      <td>...</td>\n",
              "      <td>...</td>\n",
              "      <td>...</td>\n",
              "      <td>...</td>\n",
              "      <td>...</td>\n",
              "      <td>...</td>\n",
              "      <td>...</td>\n",
              "      <td>...</td>\n",
              "      <td>...</td>\n",
              "      <td>...</td>\n",
              "      <td>...</td>\n",
              "      <td>...</td>\n",
              "      <td>...</td>\n",
              "      <td>...</td>\n",
              "      <td>...</td>\n",
              "      <td>...</td>\n",
              "      <td>...</td>\n",
              "      <td>...</td>\n",
              "      <td>...</td>\n",
              "      <td>...</td>\n",
              "      <td>...</td>\n",
              "      <td>...</td>\n",
              "      <td>...</td>\n",
              "      <td>...</td>\n",
              "      <td>...</td>\n",
              "      <td>...</td>\n",
              "      <td>...</td>\n",
              "      <td>...</td>\n",
              "      <td>...</td>\n",
              "      <td>...</td>\n",
              "      <td>...</td>\n",
              "      <td>...</td>\n",
              "    </tr>\n",
              "    <tr>\n",
              "      <th>1019</th>\n",
              "      <td>0.0</td>\n",
              "      <td>0.0</td>\n",
              "      <td>0.0</td>\n",
              "      <td>0.0</td>\n",
              "      <td>0.0</td>\n",
              "      <td>0.0</td>\n",
              "      <td>0.0</td>\n",
              "      <td>0.0</td>\n",
              "      <td>0.0</td>\n",
              "      <td>0.0</td>\n",
              "      <td>0.0</td>\n",
              "      <td>0.0</td>\n",
              "      <td>0.0</td>\n",
              "      <td>0.0</td>\n",
              "      <td>0.0</td>\n",
              "      <td>0.0</td>\n",
              "      <td>0.0</td>\n",
              "      <td>0.0</td>\n",
              "      <td>0.0</td>\n",
              "      <td>0.000000</td>\n",
              "      <td>0.0</td>\n",
              "      <td>0.000000</td>\n",
              "      <td>0.0</td>\n",
              "      <td>0.000000</td>\n",
              "      <td>0.0</td>\n",
              "      <td>0.0</td>\n",
              "      <td>0.0</td>\n",
              "      <td>0.0</td>\n",
              "      <td>0.0</td>\n",
              "      <td>0.0</td>\n",
              "      <td>0.0</td>\n",
              "      <td>0.0</td>\n",
              "      <td>0.0</td>\n",
              "      <td>0.0</td>\n",
              "      <td>0.0</td>\n",
              "      <td>0.0</td>\n",
              "      <td>0.0</td>\n",
              "      <td>0.0</td>\n",
              "      <td>0.0</td>\n",
              "      <td>0.0</td>\n",
              "      <td>...</td>\n",
              "      <td>0.0</td>\n",
              "      <td>0.000000</td>\n",
              "      <td>0.000000</td>\n",
              "      <td>0.0</td>\n",
              "      <td>0.0</td>\n",
              "      <td>0.0</td>\n",
              "      <td>0.000000</td>\n",
              "      <td>0.0</td>\n",
              "      <td>0.0</td>\n",
              "      <td>0.0</td>\n",
              "      <td>0.0</td>\n",
              "      <td>0.0</td>\n",
              "      <td>0.0</td>\n",
              "      <td>0.0</td>\n",
              "      <td>0.0</td>\n",
              "      <td>0.0</td>\n",
              "      <td>0.0</td>\n",
              "      <td>0.0</td>\n",
              "      <td>0.0</td>\n",
              "      <td>0.0</td>\n",
              "      <td>0.0</td>\n",
              "      <td>0.0</td>\n",
              "      <td>0.0</td>\n",
              "      <td>0.000000</td>\n",
              "      <td>0.0</td>\n",
              "      <td>0.0</td>\n",
              "      <td>0.0</td>\n",
              "      <td>0.0</td>\n",
              "      <td>0.0</td>\n",
              "      <td>0.0</td>\n",
              "      <td>0.0</td>\n",
              "      <td>0.0</td>\n",
              "      <td>0.0</td>\n",
              "      <td>0.0</td>\n",
              "      <td>0.0</td>\n",
              "      <td>0.0</td>\n",
              "      <td>0.0</td>\n",
              "      <td>0.0</td>\n",
              "      <td>0.0</td>\n",
              "      <td>0.0</td>\n",
              "    </tr>\n",
              "    <tr>\n",
              "      <th>1020</th>\n",
              "      <td>0.0</td>\n",
              "      <td>0.0</td>\n",
              "      <td>0.0</td>\n",
              "      <td>0.0</td>\n",
              "      <td>0.0</td>\n",
              "      <td>0.0</td>\n",
              "      <td>0.0</td>\n",
              "      <td>0.0</td>\n",
              "      <td>0.0</td>\n",
              "      <td>0.0</td>\n",
              "      <td>0.0</td>\n",
              "      <td>0.0</td>\n",
              "      <td>0.0</td>\n",
              "      <td>0.0</td>\n",
              "      <td>0.0</td>\n",
              "      <td>0.0</td>\n",
              "      <td>0.0</td>\n",
              "      <td>0.0</td>\n",
              "      <td>0.0</td>\n",
              "      <td>0.000000</td>\n",
              "      <td>0.0</td>\n",
              "      <td>0.000000</td>\n",
              "      <td>0.0</td>\n",
              "      <td>0.000000</td>\n",
              "      <td>0.0</td>\n",
              "      <td>0.0</td>\n",
              "      <td>0.0</td>\n",
              "      <td>0.0</td>\n",
              "      <td>0.0</td>\n",
              "      <td>0.0</td>\n",
              "      <td>0.0</td>\n",
              "      <td>0.0</td>\n",
              "      <td>0.0</td>\n",
              "      <td>0.0</td>\n",
              "      <td>0.0</td>\n",
              "      <td>0.0</td>\n",
              "      <td>0.0</td>\n",
              "      <td>0.0</td>\n",
              "      <td>0.0</td>\n",
              "      <td>0.0</td>\n",
              "      <td>...</td>\n",
              "      <td>0.0</td>\n",
              "      <td>0.000000</td>\n",
              "      <td>0.000000</td>\n",
              "      <td>0.0</td>\n",
              "      <td>0.0</td>\n",
              "      <td>0.0</td>\n",
              "      <td>0.000000</td>\n",
              "      <td>0.0</td>\n",
              "      <td>0.0</td>\n",
              "      <td>0.0</td>\n",
              "      <td>0.0</td>\n",
              "      <td>0.0</td>\n",
              "      <td>0.0</td>\n",
              "      <td>0.0</td>\n",
              "      <td>0.0</td>\n",
              "      <td>0.0</td>\n",
              "      <td>0.0</td>\n",
              "      <td>0.0</td>\n",
              "      <td>0.0</td>\n",
              "      <td>0.0</td>\n",
              "      <td>0.0</td>\n",
              "      <td>0.0</td>\n",
              "      <td>0.0</td>\n",
              "      <td>0.000000</td>\n",
              "      <td>0.0</td>\n",
              "      <td>0.0</td>\n",
              "      <td>0.0</td>\n",
              "      <td>0.0</td>\n",
              "      <td>0.0</td>\n",
              "      <td>0.0</td>\n",
              "      <td>0.0</td>\n",
              "      <td>0.0</td>\n",
              "      <td>0.0</td>\n",
              "      <td>0.0</td>\n",
              "      <td>0.0</td>\n",
              "      <td>0.0</td>\n",
              "      <td>0.0</td>\n",
              "      <td>0.0</td>\n",
              "      <td>0.0</td>\n",
              "      <td>0.0</td>\n",
              "    </tr>\n",
              "    <tr>\n",
              "      <th>1021</th>\n",
              "      <td>0.0</td>\n",
              "      <td>0.0</td>\n",
              "      <td>0.0</td>\n",
              "      <td>0.0</td>\n",
              "      <td>0.0</td>\n",
              "      <td>0.0</td>\n",
              "      <td>0.0</td>\n",
              "      <td>0.0</td>\n",
              "      <td>0.0</td>\n",
              "      <td>0.0</td>\n",
              "      <td>0.0</td>\n",
              "      <td>0.0</td>\n",
              "      <td>0.0</td>\n",
              "      <td>0.0</td>\n",
              "      <td>0.0</td>\n",
              "      <td>0.0</td>\n",
              "      <td>0.0</td>\n",
              "      <td>0.0</td>\n",
              "      <td>0.0</td>\n",
              "      <td>0.374314</td>\n",
              "      <td>0.0</td>\n",
              "      <td>0.000000</td>\n",
              "      <td>0.0</td>\n",
              "      <td>0.000000</td>\n",
              "      <td>0.0</td>\n",
              "      <td>0.0</td>\n",
              "      <td>0.0</td>\n",
              "      <td>0.0</td>\n",
              "      <td>0.0</td>\n",
              "      <td>0.0</td>\n",
              "      <td>0.0</td>\n",
              "      <td>0.0</td>\n",
              "      <td>0.0</td>\n",
              "      <td>0.0</td>\n",
              "      <td>0.0</td>\n",
              "      <td>0.0</td>\n",
              "      <td>0.0</td>\n",
              "      <td>0.0</td>\n",
              "      <td>0.0</td>\n",
              "      <td>0.0</td>\n",
              "      <td>...</td>\n",
              "      <td>0.0</td>\n",
              "      <td>0.000000</td>\n",
              "      <td>0.000000</td>\n",
              "      <td>0.0</td>\n",
              "      <td>0.0</td>\n",
              "      <td>0.0</td>\n",
              "      <td>0.000000</td>\n",
              "      <td>0.0</td>\n",
              "      <td>0.0</td>\n",
              "      <td>0.0</td>\n",
              "      <td>0.0</td>\n",
              "      <td>0.0</td>\n",
              "      <td>0.0</td>\n",
              "      <td>0.0</td>\n",
              "      <td>0.0</td>\n",
              "      <td>0.0</td>\n",
              "      <td>0.0</td>\n",
              "      <td>0.0</td>\n",
              "      <td>0.0</td>\n",
              "      <td>0.0</td>\n",
              "      <td>0.0</td>\n",
              "      <td>0.0</td>\n",
              "      <td>0.0</td>\n",
              "      <td>0.000000</td>\n",
              "      <td>0.0</td>\n",
              "      <td>0.0</td>\n",
              "      <td>0.0</td>\n",
              "      <td>0.0</td>\n",
              "      <td>0.0</td>\n",
              "      <td>0.0</td>\n",
              "      <td>0.0</td>\n",
              "      <td>0.0</td>\n",
              "      <td>0.0</td>\n",
              "      <td>0.0</td>\n",
              "      <td>0.0</td>\n",
              "      <td>0.0</td>\n",
              "      <td>0.0</td>\n",
              "      <td>0.0</td>\n",
              "      <td>0.0</td>\n",
              "      <td>0.0</td>\n",
              "    </tr>\n",
              "    <tr>\n",
              "      <th>1022</th>\n",
              "      <td>0.0</td>\n",
              "      <td>0.0</td>\n",
              "      <td>0.0</td>\n",
              "      <td>0.0</td>\n",
              "      <td>0.0</td>\n",
              "      <td>0.0</td>\n",
              "      <td>0.0</td>\n",
              "      <td>0.0</td>\n",
              "      <td>0.0</td>\n",
              "      <td>0.0</td>\n",
              "      <td>0.0</td>\n",
              "      <td>0.0</td>\n",
              "      <td>0.0</td>\n",
              "      <td>0.0</td>\n",
              "      <td>0.0</td>\n",
              "      <td>0.0</td>\n",
              "      <td>0.0</td>\n",
              "      <td>0.0</td>\n",
              "      <td>0.0</td>\n",
              "      <td>0.000000</td>\n",
              "      <td>0.0</td>\n",
              "      <td>0.000000</td>\n",
              "      <td>0.0</td>\n",
              "      <td>0.000000</td>\n",
              "      <td>0.0</td>\n",
              "      <td>0.0</td>\n",
              "      <td>0.0</td>\n",
              "      <td>0.0</td>\n",
              "      <td>0.0</td>\n",
              "      <td>0.0</td>\n",
              "      <td>0.0</td>\n",
              "      <td>0.0</td>\n",
              "      <td>0.0</td>\n",
              "      <td>0.0</td>\n",
              "      <td>0.0</td>\n",
              "      <td>0.0</td>\n",
              "      <td>0.0</td>\n",
              "      <td>0.0</td>\n",
              "      <td>0.0</td>\n",
              "      <td>0.0</td>\n",
              "      <td>...</td>\n",
              "      <td>0.0</td>\n",
              "      <td>0.000000</td>\n",
              "      <td>0.000000</td>\n",
              "      <td>0.0</td>\n",
              "      <td>0.0</td>\n",
              "      <td>0.0</td>\n",
              "      <td>0.000000</td>\n",
              "      <td>0.0</td>\n",
              "      <td>0.0</td>\n",
              "      <td>0.0</td>\n",
              "      <td>0.0</td>\n",
              "      <td>0.0</td>\n",
              "      <td>0.0</td>\n",
              "      <td>0.0</td>\n",
              "      <td>0.0</td>\n",
              "      <td>0.0</td>\n",
              "      <td>0.0</td>\n",
              "      <td>0.0</td>\n",
              "      <td>0.0</td>\n",
              "      <td>0.0</td>\n",
              "      <td>0.0</td>\n",
              "      <td>0.0</td>\n",
              "      <td>0.0</td>\n",
              "      <td>0.000000</td>\n",
              "      <td>0.0</td>\n",
              "      <td>0.0</td>\n",
              "      <td>0.0</td>\n",
              "      <td>0.0</td>\n",
              "      <td>0.0</td>\n",
              "      <td>0.0</td>\n",
              "      <td>0.0</td>\n",
              "      <td>0.0</td>\n",
              "      <td>0.0</td>\n",
              "      <td>0.0</td>\n",
              "      <td>0.0</td>\n",
              "      <td>0.0</td>\n",
              "      <td>0.0</td>\n",
              "      <td>0.0</td>\n",
              "      <td>0.0</td>\n",
              "      <td>0.0</td>\n",
              "    </tr>\n",
              "    <tr>\n",
              "      <th>1023</th>\n",
              "      <td>0.0</td>\n",
              "      <td>0.0</td>\n",
              "      <td>0.0</td>\n",
              "      <td>0.0</td>\n",
              "      <td>0.0</td>\n",
              "      <td>0.0</td>\n",
              "      <td>0.0</td>\n",
              "      <td>0.0</td>\n",
              "      <td>0.0</td>\n",
              "      <td>0.0</td>\n",
              "      <td>0.0</td>\n",
              "      <td>0.0</td>\n",
              "      <td>0.0</td>\n",
              "      <td>0.0</td>\n",
              "      <td>0.0</td>\n",
              "      <td>0.0</td>\n",
              "      <td>0.0</td>\n",
              "      <td>0.0</td>\n",
              "      <td>0.0</td>\n",
              "      <td>0.000000</td>\n",
              "      <td>0.0</td>\n",
              "      <td>0.406712</td>\n",
              "      <td>0.0</td>\n",
              "      <td>0.000000</td>\n",
              "      <td>0.0</td>\n",
              "      <td>0.0</td>\n",
              "      <td>0.0</td>\n",
              "      <td>0.0</td>\n",
              "      <td>0.0</td>\n",
              "      <td>0.0</td>\n",
              "      <td>0.0</td>\n",
              "      <td>0.0</td>\n",
              "      <td>0.0</td>\n",
              "      <td>0.0</td>\n",
              "      <td>0.0</td>\n",
              "      <td>0.0</td>\n",
              "      <td>0.0</td>\n",
              "      <td>0.0</td>\n",
              "      <td>0.0</td>\n",
              "      <td>0.0</td>\n",
              "      <td>...</td>\n",
              "      <td>0.0</td>\n",
              "      <td>0.000000</td>\n",
              "      <td>0.000000</td>\n",
              "      <td>0.0</td>\n",
              "      <td>0.0</td>\n",
              "      <td>0.0</td>\n",
              "      <td>0.338053</td>\n",
              "      <td>0.0</td>\n",
              "      <td>0.0</td>\n",
              "      <td>0.0</td>\n",
              "      <td>0.0</td>\n",
              "      <td>0.0</td>\n",
              "      <td>0.0</td>\n",
              "      <td>0.0</td>\n",
              "      <td>0.0</td>\n",
              "      <td>0.0</td>\n",
              "      <td>0.0</td>\n",
              "      <td>0.0</td>\n",
              "      <td>0.0</td>\n",
              "      <td>0.0</td>\n",
              "      <td>0.0</td>\n",
              "      <td>0.0</td>\n",
              "      <td>0.0</td>\n",
              "      <td>0.370522</td>\n",
              "      <td>0.0</td>\n",
              "      <td>0.0</td>\n",
              "      <td>0.0</td>\n",
              "      <td>0.0</td>\n",
              "      <td>0.0</td>\n",
              "      <td>0.0</td>\n",
              "      <td>0.0</td>\n",
              "      <td>0.0</td>\n",
              "      <td>0.0</td>\n",
              "      <td>0.0</td>\n",
              "      <td>0.0</td>\n",
              "      <td>0.0</td>\n",
              "      <td>0.0</td>\n",
              "      <td>0.0</td>\n",
              "      <td>0.0</td>\n",
              "      <td>0.0</td>\n",
              "    </tr>\n",
              "  </tbody>\n",
              "</table>\n",
              "<p>1024 rows × 360 columns</p>\n",
              "</div>"
            ],
            "text/plain": [
              "      aasif  abdullah  abha  according  ...  شهرالتوعيةبصحةالرجل  صحتك  موفمبر   نا\n",
              "0       0.0       0.0   0.0        0.0  ...                  0.0   0.0     0.0  0.0\n",
              "1       0.0       0.0   0.0        0.0  ...                  0.0   0.0     0.0  0.0\n",
              "2       0.0       0.0   0.0        0.0  ...                  0.0   0.0     0.0  0.0\n",
              "3       0.0       0.0   0.0        0.0  ...                  0.0   0.0     0.0  0.0\n",
              "4       0.0       0.0   0.0        0.0  ...                  0.0   0.0     0.0  0.0\n",
              "...     ...       ...   ...        ...  ...                  ...   ...     ...  ...\n",
              "1019    0.0       0.0   0.0        0.0  ...                  0.0   0.0     0.0  0.0\n",
              "1020    0.0       0.0   0.0        0.0  ...                  0.0   0.0     0.0  0.0\n",
              "1021    0.0       0.0   0.0        0.0  ...                  0.0   0.0     0.0  0.0\n",
              "1022    0.0       0.0   0.0        0.0  ...                  0.0   0.0     0.0  0.0\n",
              "1023    0.0       0.0   0.0        0.0  ...                  0.0   0.0     0.0  0.0\n",
              "\n",
              "[1024 rows x 360 columns]"
            ]
          },
          "metadata": {
            "tags": []
          },
          "execution_count": 37
        }
      ]
    },
    {
      "cell_type": "code",
      "metadata": {
        "id": "yZLB-gv67eva"
      },
      "source": [
        "import re\n",
        "import nltk\n",
        "from nltk.corpus import stopwords\n",
        "\n",
        "from sklearn.feature_extraction.text import TfidfVectorizer\n",
        "\n",
        "from sklearn import metrics\n",
        "\n",
        "from sklearn.metrics import accuracy_score, classification_report\n",
        "\n",
        "from sklearn.tree import DecisionTreeClassifier\n",
        "from sklearn.naive_bayes import MultinomialNB\n",
        "from sklearn.ensemble import RandomForestClassifier\n",
        "from sklearn.neighbors import KNeighborsClassifier\n",
        "from sklearn.linear_model import LogisticRegression\n"
      ],
      "execution_count": 41,
      "outputs": []
    },
    {
      "cell_type": "markdown",
      "metadata": {
        "id": "b3nNzC2-C1bG"
      },
      "source": [
        "#Attempt five models\n",
        "\n",
        "- Logistic Regression,\n",
        "- MultinomialNB\n",
        "- DecisionTreeClassifier\n",
        "- RandomForestClassifier\n",
        "- KNeighborsClassifier"
      ]
    },
    {
      "cell_type": "code",
      "metadata": {
        "id": "Jw3dvCzm7Fek"
      },
      "source": [
        "cls = [LogisticRegression(),\n",
        "       MultinomialNB(), \n",
        "       DecisionTreeClassifier(),\n",
        "       RandomForestClassifier(n_estimators=200),\n",
        "       KNeighborsClassifier(n_neighbors = 5)]\n",
        "\n",
        "cls_name = []"
      ],
      "execution_count": 40,
      "outputs": []
    },
    {
      "cell_type": "code",
      "metadata": {
        "colab": {
          "base_uri": "https://localhost:8080/"
        },
        "id": "ISceme2x7la0",
        "outputId": "d0bc3354-335b-4685-d9e8-70f5bd912efe"
      },
      "source": [
        "lbl_actual = test_df.sentiment\n",
        "i = 0\n",
        "accuracy = []\n",
        "for cl in cls:\n",
        "    model = cl.fit(train_tfidf_model,train_df.sentiment)\n",
        "    lbl_pred = model.predict(test_tfidf_model)\n",
        "    a = (100*accuracy_score(lbl_pred, lbl_actual))\n",
        "    a = round(a,2)\n",
        "    accuracy.append(a)\n",
        "    cls_name.append(cl.__class__.__name__)\n",
        "    print (\"{}  Accuracy Score : {}%\".format(cls_name[i],a))\n",
        "    print ( classification_report(lbl_pred, lbl_actual))\n",
        "    i +=1"
      ],
      "execution_count": 44,
      "outputs": [
        {
          "output_type": "stream",
          "text": [
            "LogisticRegression  Accuracy Score : 97.5%\n",
            "              precision    recall  f1-score   support\n",
            "\n",
            "    Negative       0.93      1.00      0.96        27\n",
            "     Neutral       0.80      1.00      0.89        36\n",
            "    Positive       1.00      0.97      0.99       377\n",
            "\n",
            "    accuracy                           0.97       440\n",
            "   macro avg       0.91      0.99      0.95       440\n",
            "weighted avg       0.98      0.97      0.98       440\n",
            "\n",
            "MultinomialNB  Accuracy Score : 97.05%\n",
            "              precision    recall  f1-score   support\n",
            "\n",
            "    Negative       1.00      1.00      1.00        29\n",
            "     Neutral       0.71      1.00      0.83        32\n",
            "    Positive       1.00      0.97      0.98       379\n",
            "\n",
            "    accuracy                           0.97       440\n",
            "   macro avg       0.90      0.99      0.94       440\n",
            "weighted avg       0.98      0.97      0.97       440\n",
            "\n",
            "DecisionTreeClassifier  Accuracy Score : 97.5%\n",
            "              precision    recall  f1-score   support\n",
            "\n",
            "    Negative       1.00      1.00      1.00        29\n",
            "     Neutral       0.82      0.93      0.87        40\n",
            "    Positive       0.99      0.98      0.99       371\n",
            "\n",
            "    accuracy                           0.97       440\n",
            "   macro avg       0.94      0.97      0.95       440\n",
            "weighted avg       0.98      0.97      0.98       440\n",
            "\n",
            "RandomForestClassifier  Accuracy Score : 98.41%\n",
            "              precision    recall  f1-score   support\n",
            "\n",
            "    Negative       1.00      1.00      1.00        29\n",
            "     Neutral       0.87      0.97      0.92        40\n",
            "    Positive       1.00      0.98      0.99       371\n",
            "\n",
            "    accuracy                           0.98       440\n",
            "   macro avg       0.95      0.99      0.97       440\n",
            "weighted avg       0.99      0.98      0.98       440\n",
            "\n",
            "KNeighborsClassifier  Accuracy Score : 97.5%\n",
            "              precision    recall  f1-score   support\n",
            "\n",
            "    Negative       1.00      1.00      1.00        29\n",
            "     Neutral       0.89      0.87      0.88        46\n",
            "    Positive       0.98      0.99      0.98       365\n",
            "\n",
            "    accuracy                           0.97       440\n",
            "   macro avg       0.96      0.95      0.95       440\n",
            "weighted avg       0.97      0.97      0.97       440\n",
            "\n"
          ],
          "name": "stdout"
        }
      ]
    },
    {
      "cell_type": "code",
      "metadata": {
        "colab": {
          "base_uri": "https://localhost:8080/",
          "height": 386
        },
        "id": "bM7hglxe8Hj4",
        "outputId": "4abf4393-e721-4172-956c-83f203f5b8ff"
      },
      "source": [
        "plt.bar(cls_name, accuracy)\n",
        "plt.xticks(rotation=70)"
      ],
      "execution_count": 45,
      "outputs": [
        {
          "output_type": "execute_result",
          "data": {
            "text/plain": [
              "([0, 1, 2, 3, 4], <a list of 5 Text major ticklabel objects>)"
            ]
          },
          "metadata": {
            "tags": []
          },
          "execution_count": 45
        },
        {
          "output_type": "display_data",
          "data": {
            "image/png": "[encoded data removed]",
            "text/plain": [
              "<Figure size 432x288 with 1 Axes>"
            ]
          },
          "metadata": {
            "tags": [],
            "needs_background": "light"
          }
        }
      ]
    },
    {
      "cell_type": "markdown",
      "metadata": {
        "id": "DTUFJyKjDPWa"
      },
      "source": [
        "RandomForestClassifier is better than others with 98.41% accuracy"
      ]
    },
    {
      "cell_type": "code",
      "metadata": {
        "id": "fyC3wIQ68YpY"
      },
      "source": [
        "# Save to csv\n",
        "\n",
        "lg_model = LogisticRegression().fit(train_tfidf_model,train_df.sentiment)\n",
        "lg_lbl_pred = model.predict(test_tfidf_model)"
      ],
      "execution_count": 47,
      "outputs": []
    },
    {
      "cell_type": "code",
      "metadata": {
        "id": "IgF-OL8B8fJh"
      },
      "source": [
        "lg_lbl_pred_df = pd.DataFrame({'tweet_id': test_df.tweet_id,\n",
        "                            'text' : test_df.text,\n",
        "                            'lg_reg' : lg_lbl_pred})\n",
        "lg_lbl_pred_df.head()"
      ],
      "execution_count": null,
      "outputs": []
    },
    {
      "cell_type": "code",
      "metadata": {
        "id": "fkgpUEr681V7"
      },
      "source": [
        "lg_lbl_pred_df.to_csv('sentiments.csv', index=False)"
      ],
      "execution_count": null,
      "outputs": []
    }
  ]
}